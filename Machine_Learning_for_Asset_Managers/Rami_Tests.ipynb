{
 "cells": [
  {
   "cell_type": "code",
   "execution_count": 2,
   "metadata": {},
   "outputs": [],
   "source": [
    "import numpy as np\n",
    "import pandas as pd\n",
    "from sklearn.neighbors import KernelDensity\n",
    "import matplotlib.pylab as plt\n",
    "from scipy.optimize import minimize\n",
    "from scipy.linalg import block_diag\n",
    "from sklearn.covariance import LedoitWolf\n",
    "\n",
    "#snippet 2.1\n",
    "#Marcenko-Pastur pdf\n",
    "#q=T/N \n",
    "def mpPDF(var, q, pts):\n",
    "    eMin, eMax = var*(1-(1./q)**.5)**2, var*(1+(1./q)**.5)**2 # calc lambda_minus, lambda_plus\n",
    "    eVal = np.linspace(eMin, eMax, pts) #Return evenly spaced numbers over a specified interval. eVal='lambda'\n",
    "    #Note: 1.0/2*2 = 1.0 not 0.25=1.0/(2*2)\n",
    "    pdf = q/(2*np.pi*var*eVal)*((eMax-eVal)*(eVal-eMin))**.5 #np.allclose(np.flip((eMax-eVal)), (eVal-eMin))==True\n",
    "    pdf = pd.Series(pdf, index=eVal)\n",
    "    return pdf\n",
    "\n",
    "#snippet 2.2\n",
    "#Test Marcenko-Pastur Thm\n",
    "def getPCA(matrix):\n",
    "    # Get eVal, eVec from a Hermitian matrix\n",
    "    eVal, eVec = np.linalg.eig(matrix) #complex Hermitian (conjugate symmetric) or a real symmetric matrix.\n",
    "    indices = eVal.argsort()[::-1] #arguments for sorting eval desc\n",
    "    eVal,eVec = eVal[indices],eVec[:,indices]\n",
    "    eVal = np.diagflat(eVal) # identity matrix with eigenvalues as diagonal\n",
    "    return eVal,eVec\n",
    "    \n",
    "def fitKDE(obs, bWidth=.15, kernel='gaussian', x=None):\n",
    "    #Fit kernel to a series of obs, and derive the prob of obs\n",
    "    # x is the array of values on which the fit KDE will be evaluated\n",
    "    #print(len(obs.shape) == 1)\n",
    "    if len(obs.shape) == 1: obs = obs.reshape(-1,1)\n",
    "    kde = KernelDensity(kernel = kernel, bandwidth = bWidth).fit(obs)\n",
    "    #print(x is None)\n",
    "    if x is None: x = np.unique(obs).reshape(-1,1)\n",
    "    #print(len(x.shape))\n",
    "    if len(x.shape) == 1: x = x.reshape(-1,1)\n",
    "    logProb = kde.score_samples(x) # log(density)\n",
    "    pdf = pd.Series(np.exp(logProb), index=x.flatten())\n",
    "    return pdf\n",
    "\n",
    "#snippet 2.3\n",
    "def getRndCov(nCols, nFacts): #nFacts - contains signal out of nCols\n",
    "    w = np.random.normal(size=(nCols, nFacts))\n",
    "    cov = np.dot(w, w.T) #random cov matrix, however not full rank\n",
    "    cov += np.diag(np.random.uniform(size=nCols)) #full rank cov\n",
    "    return cov\n",
    "\n",
    "def cov2corr(cov):\n",
    "    # Derive the correlation matrix from a covariance matrix\n",
    "    std = np.sqrt(np.diag(cov))\n",
    "    corr = cov/np.outer(std,std)\n",
    "    corr[corr<-1], corr[corr>1] = -1,1 #for numerical errors\n",
    "    return corr\n",
    "    \n",
    "def corr2cov(corr, std):\n",
    "    cov = corr * np.outer(std, std)\n",
    "    return cov     \n",
    "    \n",
    "#snippet 2.4 - fitting the marcenko-pastur pdf - find variance\n",
    "#Fit error\n",
    "def errPDFs(var, eVal, q, bWidth, pts=1000):\n",
    "    var = var[0]\n",
    "    pdf0 = mpPDF(var, q, pts) #theoretical pdf\n",
    "    pdf1 = fitKDE(eVal, bWidth, x=pdf0.index.values) #empirical pdf\n",
    "    sse = np.sum((pdf1-pdf0)**2)\n",
    "    print(\"sse:\"+str(sse))\n",
    "    return sse \n",
    "    \n",
    "# find max random eVal by fitting Marcenko's dist\n",
    "# and return variance\n",
    "def findMaxEval(eVal, q, bWidth):\n",
    "    out = minimize(lambda *x: errPDFs(*x), x0=np.array(0.5), args=(eVal, q, bWidth), bounds=((1E-5, 1-1E-5),))\n",
    "    print(\"found errPDFs\"+str(out['x'][0]))\n",
    "    if out['success']: var = out['x'][0]\n",
    "    else: var=1\n",
    "    eMax = var*(1+(1./q)**.5)**2\n",
    "    return eMax, var\n",
    "    \n",
    "# code snippet 2.5 - denoising by constant residual eigenvalue\n",
    "# Remove noise from corr by fixing random eigenvalue\n",
    "# Operation invariante to trace(Correlation)\n",
    "# The Trace of a square matrix is the _Sum_ of its eigenvalues\n",
    "# The Determinate of thematrix is the _Product_ of its eigenvalues\n",
    "def denoisedCorr(eVal, eVec, nFacts):\n",
    "    eVal_ = np.diag(eVal).copy()\n",
    "    eVal_[nFacts:] = eVal_[nFacts:].sum()/float(eVal_.shape[0] - nFacts) #all but 0..i values equals (1/N-i)sum(eVal_[i..N]))\n",
    "    eVal_ = np.diag(eVal_) #square matrix with eigenvalues as diagonal: eVal_.I\n",
    "    corr1 = np.dot(eVec, eVal_).dot(eVec.T) #Eigendecomposition of a symmetric matrix: S = QΛQT\n",
    "    corr1 = cov2corr(corr1) # Rescaling the correlation matrix to have 1s on the main diagonal\n",
    "    return corr1\n",
    "    \n",
    "# code snippet 2.6 - detoning\n",
    "# ref: mlfinlab/portfolio_optimization/risk_estimators.py\n",
    "# This method assumes a sorted set of eigenvalues and eigenvectors.\n",
    "# The market component is the first eigenvector with highest eigenvalue.\n",
    "# it returns singular correlation matrix: \n",
    "# \"the detoned correlation matrix is singualar, as a result of eliminating (at least) one eigenvector.\"\n",
    "# Page 32\n",
    "def detoned_corr(corr, eigenvalues, eigenvectors, market_component=1):\n",
    "    \"\"\"\n",
    "    De-tones the de-noised correlation matrix by removing the market component.\n",
    "    The input is the eigenvalues and the eigenvectors of the correlation matrix and the number\n",
    "    of the first eigenvalue that is above the maximum theoretical eigenvalue and the number of\n",
    "    eigenvectors related to a market component.\n",
    "    :param corr: (np.array) Correlation matrix to detone.\n",
    "    :param eigenvalues: (np.array) Matrix with eigenvalues on the main diagonal.\n",
    "    :param eigenvectors: (float) Eigenvectors array.\n",
    "    :param market_component: (int) Number of fist eigevectors related to a market component. (1 by default)\n",
    "    :return: (np.array) De-toned correlation matrix.\n",
    "    \"\"\"\n",
    "    \n",
    "    # Getting the eigenvalues and eigenvectors related to market component\n",
    "    eigenvalues_mark = eigenvalues[:market_component, :market_component]\n",
    "    eigenvectors_mark = eigenvectors[:, :market_component]\n",
    "    \n",
    "    # Calculating the market component correlation\n",
    "    corr_mark = np.dot(eigenvectors_mark, eigenvalues_mark).dot(eigenvectors_mark.T)\n",
    "    \n",
    "    # Removing the market component from the de-noised correlation matrix\n",
    "    corr = corr - corr_mark\n",
    "    \n",
    "    # Rescaling the correlation matrix to have 1s on the main diagonal\n",
    "    corr = cov2corr(corr)\n",
    "    \n",
    "    return corr\n",
    "            "
   ]
  },
  {
   "cell_type": "code",
   "execution_count": 4,
   "metadata": {},
   "outputs": [],
   "source": [
    "x=np.random.normal(size=(10000,1000))\n",
    "eVal0,eVec0=getPCA(np.corrcoef(x,rowvar=0))"
   ]
  },
  {
   "cell_type": "code",
   "execution_count": 6,
   "metadata": {},
   "outputs": [],
   "source": [
    "alpha,nCols,nFact,q=.995,1000,100,10\n",
    "cov=np.cov(np.random.normal(size=(nCols*q,nCols)),rowvar=0)\n",
    "cov=alpha*cov+(1-alpha)*getRndCov(nCols,nFact)\n",
    "corr0=cov2corr(cov)\n",
    "eVal0,eVec0=getPCA(corr0)"
   ]
  },
  {
   "cell_type": "code",
   "execution_count": 7,
   "metadata": {},
   "outputs": [
    {
     "name": "stdout",
     "output_type": "stream",
     "text": [
      "sse:752.5686337686157\n",
      "sse:752.5685383945494\n",
      "sse:285.1467340303001\n",
      "sse:285.14673035987647\n",
      "sse:277.7181116542274\n",
      "sse:277.71811611273864\n",
      "sse:232.60059342987353\n",
      "sse:232.6006006348726\n",
      "sse:119.55595426384266\n",
      "sse:119.55592535473374\n",
      "sse:182.2245078176563\n",
      "sse:182.2245172623255\n",
      "sse:19.104584621773945\n",
      "sse:19.104587893842822\n",
      "sse:7036642712506.261\n",
      "sse:7022590508897.954\n",
      "sse:1223.8926644103444\n",
      "sse:1223.8925272992533\n",
      "sse:17.543335395760295\n",
      "sse:17.5433352365119\n",
      "sse:285.1467340303001\n",
      "sse:285.14673035987647\n",
      "sse:17.55079656472821\n",
      "sse:17.55079684856071\n",
      "sse:17.539965550600257\n",
      "sse:17.539965550604325\n",
      "sse:17.539965550600005\n",
      "sse:17.539965550600037\n",
      "found errPDFs0.6792503801855408\n"
     ]
    }
   ],
   "source": [
    "eMax0,var0=findMaxEval(np.diag(eVal0),q,bWidth=.01)\n",
    "nFacts0=eVal0.shape[0]-np.diag(eVal0)[::-1].searchsorted(eMax0)"
   ]
  },
  {
   "cell_type": "code",
   "execution_count": 57,
   "metadata": {},
   "outputs": [
    {
     "data": {
      "text/plain": [
       "1.176771078788418"
      ]
     },
     "execution_count": 57,
     "metadata": {},
     "output_type": "execute_result"
    }
   ],
   "source": [
    "eMax0"
   ]
  },
  {
   "cell_type": "code",
   "execution_count": 8,
   "metadata": {},
   "outputs": [],
   "source": [
    "eVal,eVec,nFacts=eVal0,eVec0,nFacts0"
   ]
  },
  {
   "cell_type": "code",
   "execution_count": 46,
   "metadata": {},
   "outputs": [],
   "source": [
    "eVal_ = np.diag(eVal).copy()\n",
    "eVal_[nFacts:] = eVal_[nFacts:].sum()/float(eVal_.shape[0] - nFacts) #all but 0..i values equals (1/N-i)sum(eVal_[i..N]))\n",
    "eVal_ = np.diag(eVal_) #square matrix with eigenvalues as diagonal: eVal_.I\n",
    "corr1 = np.dot(eVec, eVal_).dot(eVec.T) #Eigendecomposition of a symmetric matrix: S = QΛQT\n",
    "corr1 = cov2corr(corr1) # Rescaling the correlation matrix to have 1s on the main diagonal"
   ]
  },
  {
   "cell_type": "code",
   "execution_count": 67,
   "metadata": {},
   "outputs": [
    {
     "data": {
      "text/plain": [
       "array([2.46388994, 2.42963544, 2.40618884, 2.33549868, 2.32081352,\n",
       "       0.66805344, 0.66805344, 0.66805344, 0.66805344, 0.66805344,\n",
       "       0.66805344, 0.66805344, 0.66805344, 0.66805344, 0.66805344,\n",
       "       0.66805344, 0.66805344, 0.66805344, 0.66805344, 0.66805344,\n",
       "       0.66805344, 0.66805344, 0.66805344, 0.66805344, 0.66805344,\n",
       "       0.66805344, 0.66805344, 0.66805344, 0.66805344, 0.66805344,\n",
       "       0.66805344, 0.66805344, 0.66805344, 0.66805344, 0.66805344,\n",
       "       0.66805344, 0.66805344, 0.66805344, 0.66805344, 0.66805344,\n",
       "       0.66805344, 0.66805344, 0.66805344, 0.66805344, 0.66805344])"
      ]
     },
     "execution_count": 67,
     "metadata": {},
     "output_type": "execute_result"
    }
   ],
   "source": [
    "np.diag(eVal_)[95:140]"
   ]
  },
  {
   "cell_type": "code",
   "execution_count": null,
   "metadata": {},
   "outputs": [
    {
     "data": {
      "text/plain": [
       "array([2.46388994, 2.42963544, 2.40618884, 2.33549868, 2.32081352,\n",
       "       1.14129191, 1.12835373, 1.12103697, 1.11543288, 1.11281898,\n",
       "       1.10528223, 1.10466904, 1.10021575, 1.09867869, 1.09735789,\n",
       "       1.09414669, 1.09162142, 1.0876504 , 1.08521577, 1.08244341,\n",
       "       1.08089042, 1.07839975, 1.07701641, 1.07370922, 1.0732285 ,\n",
       "       1.06900785, 1.06617465, 1.0656383 , 1.06370756, 1.06259816,\n",
       "       1.05955891, 1.05735919, 1.05539981, 1.05344286, 1.05282789,\n",
       "       1.05014248, 1.04899392, 1.04811084, 1.04385529, 1.04284107,\n",
       "       1.04225321, 1.03944917, 1.0382955 , 1.03694818, 1.03571676])"
      ]
     },
     "metadata": {},
     "output_type": "display_data"
    }
   ],
   "source": [
    "np.diag(eVal0)[95:140]"
   ]
  },
  {
   "cell_type": "code",
   "execution_count": 72,
   "metadata": {},
   "outputs": [
    {
     "data": {
      "text/plain": [
       "array([0.37966198, 0.37923144, 0.37828769, 0.37696857, 0.37552142,\n",
       "       0.37487405, 0.37460198, 0.37376679, 0.37316377, 0.37201607,\n",
       "       0.37062554, 0.3700061 , 0.36990281, 0.36848378, 0.3676012 ,\n",
       "       0.36701735, 0.36633318, 0.36513747, 0.36458364, 0.36446073,\n",
       "       0.36376986, 0.36275384, 0.36220663, 0.36110158, 0.36010413,\n",
       "       0.35918187, 0.35830395, 0.35708041, 0.35545435, 0.35468765,\n",
       "       0.35426249, 0.35310368, 0.35219944, 0.35108808, 0.35058677,\n",
       "       0.34876921, 0.34765135, 0.34728467, 0.34533212, 0.34495195,\n",
       "       0.34387426, 0.34358347, 0.34097509, 0.34038054, 0.33864305,\n",
       "       0.33781737, 0.337065  , 0.33649863, 0.33047496, 0.32727138])"
      ]
     },
     "execution_count": 72,
     "metadata": {},
     "output_type": "execute_result"
    }
   ],
   "source": [
    "np.diag(eVal0)[-50:]"
   ]
  },
  {
   "cell_type": "code",
   "execution_count": 73,
   "metadata": {},
   "outputs": [
    {
     "data": {
      "text/plain": [
       "array([0.66805344, 0.66805344, 0.66805344, 0.66805344, 0.66805344,\n",
       "       0.66805344, 0.66805344, 0.66805344, 0.66805344, 0.66805344,\n",
       "       0.66805344, 0.66805344, 0.66805344, 0.66805344, 0.66805344,\n",
       "       0.66805344, 0.66805344, 0.66805344, 0.66805344, 0.66805344,\n",
       "       0.66805344, 0.66805344, 0.66805344, 0.66805344, 0.66805344,\n",
       "       0.66805344, 0.66805344, 0.66805344, 0.66805344, 0.66805344,\n",
       "       0.66805344, 0.66805344, 0.66805344, 0.66805344, 0.66805344,\n",
       "       0.66805344, 0.66805344, 0.66805344, 0.66805344, 0.66805344,\n",
       "       0.66805344, 0.66805344, 0.66805344, 0.66805344, 0.66805344,\n",
       "       0.66805344, 0.66805344, 0.66805344, 0.66805344, 0.66805344])"
      ]
     },
     "execution_count": 73,
     "metadata": {},
     "output_type": "execute_result"
    }
   ],
   "source": [
    "np.diag(eVal_)[-50:]"
   ]
  },
  {
   "cell_type": "code",
   "execution_count": 74,
   "metadata": {},
   "outputs": [],
   "source": [
    "# bu yukardaki 4 outputta eigen valulara bakıyoruz correction işlemi ne gibi bir değişiklik yapıyor iyice anlayabilmek için\n",
    "# emaxtan kucuk olanların hepsini alıp topluyor sonra kaç tanesi öyleyse onların sayısına bölüyor\n",
    "# cıkan değeri hepsine o değeri atıyor. adı buradan gelıyor constant residual "
   ]
  },
  {
   "cell_type": "code",
   "execution_count": null,
   "metadata": {},
   "outputs": [],
   "source": [
    "np.diag(eVal0)[95:140]"
   ]
  },
  {
   "cell_type": "code",
   "execution_count": null,
   "metadata": {},
   "outputs": [],
   "source": [
    "def denoisedCorr(eVal, eVec, nFacts):\n",
    "    eVal_ = np.diag(eVal).copy()\n",
    "    eVal_[nFacts:] = eVal_[nFacts:].sum()/float(eVal_.shape[0] - nFacts) #all but 0..i values equals (1/N-i)sum(eVal_[i..N]))\n",
    "    eVal_ = np.diag(eVal_) #square matrix with eigenvalues as diagonal: eVal_.I\n",
    "    corr1 = np.dot(eVec, eVal_).dot(eVec.T) #Eigendecomposition of a symmetric matrix: S = QΛQT\n",
    "    corr1 = cov2corr(corr1) # Rescaling the correlation matrix to have 1s on the main diagonal\n",
    "    return corr1"
   ]
  }
 ],
 "metadata": {
  "kernelspec": {
   "display_name": "Python 3",
   "language": "python",
   "name": "python3"
  },
  "language_info": {
   "codemirror_mode": {
    "name": "ipython",
    "version": 3
   },
   "file_extension": ".py",
   "mimetype": "text/x-python",
   "name": "python",
   "nbconvert_exporter": "python",
   "pygments_lexer": "ipython3",
   "version": "3.11.3"
  }
 },
 "nbformat": 4,
 "nbformat_minor": 2
}
